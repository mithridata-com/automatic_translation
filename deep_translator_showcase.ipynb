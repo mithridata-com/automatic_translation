{
 "cells": [
  {
   "cell_type": "code",
   "execution_count": 1,
   "id": "3230f991",
   "metadata": {},
   "outputs": [],
   "source": [
    "#!pip install deep_translator\n",
    "from deep_translator import GoogleTranslator"
   ]
  },
  {
   "cell_type": "code",
   "execution_count": 3,
   "id": "4313a461",
   "metadata": {},
   "outputs": [
    {
     "name": "stdout",
     "output_type": "stream",
     "text": [
      "In German:  Bitte abonniert meinen Kanal :-)\n"
     ]
    }
   ],
   "source": [
    "# The phrase we want to translate\n",
    "phrase_to_translate = \"Please subscribe to my channel :-)\"\n",
    "\n",
    "# Translating to German\n",
    "translated_to_german = GoogleTranslator(source='auto', target='de').translate(phrase_to_translate)\n",
    "print(\"In German: \", translated_to_german)"
   ]
  },
  {
   "cell_type": "code",
   "execution_count": 4,
   "id": "d7bb385a",
   "metadata": {},
   "outputs": [
    {
     "name": "stdout",
     "output_type": "stream",
     "text": [
      "In Italian:  Per favore iscriviti al mio canale :-)\n"
     ]
    }
   ],
   "source": [
    "# Translating to Italian\n",
    "translated_to_italian = GoogleTranslator(source='auto', target='it').translate(phrase_to_translate)\n",
    "print(\"In Italian: \", translated_to_italian)"
   ]
  },
  {
   "cell_type": "code",
   "execution_count": 5,
   "id": "8df9f81f",
   "metadata": {},
   "outputs": [
    {
     "name": "stdout",
     "output_type": "stream",
     "text": [
      "In Japanese:  私のチャンネルを購読してください:-)\n"
     ]
    }
   ],
   "source": [
    "# Translating to Japanese\n",
    "translated_to_japanese = GoogleTranslator(source='auto', target='ja').translate(phrase_to_translate)\n",
    "print(\"In Japanese: \", translated_to_japanese)"
   ]
  },
  {
   "cell_type": "code",
   "execution_count": 18,
   "id": "0603dd7e",
   "metadata": {},
   "outputs": [
    {
     "name": "stdout",
     "output_type": "stream",
     "text": [
      "Extracted Text:  Filiale der VR-Bank Bad Salzungen Schmalkalden in Erfurt Die angeschlagene Volksbank Bad Salzungen Schmalkalden erhält Unterstützung aus dem Sicherungsfonds der deutschen Genossenschaftsbanken. Die Einlagen ihrer Kunden sowie Genossenschaftsanteile seien damit sicher, sagte der von der Finanzaufsicht Bafin eingesetzte Verwalter Christian Gervais auf einer außerordentlichen Generalversammlung am Dienstag in Erfurt, wie die Bank mitteilte. Die von den Mitgliedern der Genossenschaftsbank initiierte Versammlung war nicht öffentlich. Fast 2300 Mitglieder seien anwesend oder durch Vollmacht repräsentiert gewesen. Nach SPIEGEL-Informationen drohen der kleinen Bank Verluste von 250 Millionen Euro, weit mehr als sie Eigenkapital hat. Die Schieflage hatte auch außerhalb Thüringens für Interesse gesorgt, weil sie im Volksmund als »Effenberg-Bank« bezeichnet wird. Der ehemalige Profifußballer Stefan Effenberg soll für sie zeitweise beratend tätig gewesen sein, wenn es um Kredite an Fußballvereine  ...\n"
     ]
    }
   ],
   "source": [
    "import requests\n",
    "from bs4 import BeautifulSoup\n",
    "\n",
    "# URL of the article you want to scrape\n",
    "article_url = 'https://www.spiegel.de/wirtschaft/unternehmen/effenberg-bank-pleite-der-volksbank-schmalkalden-ist-vorerst-abgewendet-a-a1d87af9-69d9-4f09-97b7-c59d53c04458'\n",
    "\n",
    "# Fetching the content from the URL\n",
    "response = requests.get(article_url)\n",
    "web_content = response.text\n",
    "\n",
    "# Parsing the fetched content using BeautifulSoup\n",
    "soup = BeautifulSoup(web_content, 'html.parser')\n",
    "\n",
    "# Selecting all paragraph elements\n",
    "paragraphs = soup.find_all('p')\n",
    "\n",
    "# Combining the text of each paragraph into one string\n",
    "text_to_translate = ' '.join([para.text for para in paragraphs])\n",
    "\n",
    "print(\"Extracted Text: \", text_to_translate[:1000], \"...\") \n"
   ]
  },
  {
   "cell_type": "code",
   "execution_count": 19,
   "id": "f8d69e22",
   "metadata": {},
   "outputs": [
    {
     "name": "stdout",
     "output_type": "stream",
     "text": [
      "Translated Text:  VR-Bank Bad Salzungen Schmalkalden branch in Erfurt The ailing Volksbank Bad Salzungen Schmalkalden is receiving support from the security fund of the German cooperative banks. The deposits of its customers and cooperative shares are therefore safe, said the administrator Christian Gervais appointed by the financial regulator Bafin at an extraordinary general meeting on Tuesday in Erfurt, as the bank announced. The meeting initiated by the members of the cooperative bank was not public. Almost 2,300 members were present or represented by proxy. According to SPIEGEL information, the small bank is threatened with losses of 250 million euros, far more than it has equity capital. The imbalance had also caused interest outside of Thuringia because it is popularly known as the “Effenberg Bank”. The former professional footballer Stefan Effenberg is said to have acted as an advisor for them at times when it came to loans to football clubs. According to the statement, Gervais explained that the bank's difficulties arose from a massive need for value adjustments on loans, real estate and investments. At the end of 2023, he was sent by Bafin as a special representative with a management function to VR-Bank in southern Thuringia. The general meeting was eagerly awaited because the bank's comrades had spoken out at a preparatory meeting in favor of having the general meeting approve real estate transactions worth ten million euros or more. This would have made it considerably more difficult to restructure the bank through the BVR Volksbank Association's security scheme. According to the Volksbank, there was no approval of a corresponding change to the statutes at the general meeting. Administrator Gervais viewed the meeting as a “step towards normalizing and securing the future of VR-Bank Bad Salzungen Schmalkalden.” A new supervisory board was elected to replace the one who resigned in December. Under its former boss Stefan Siebert, the bank had pursued a high-risk, ruinous expansion course, including loans to dubious business partners, suspiciously overpriced real estate deals, investments in holy water, agricultural machinery, Ruhr area whorehouses, and an express laundry. Siebert himself had a lawyer inform him that all “business decisions were made on the basis of permissible strategic and economic considerations and with the involvement of external consultants” and that “committee reservations were observed.” By the time the problems became known, the Volksbank, headquartered in Bad Salzungen, said it had almost 51,000 customers with total assets of around 1.5 billion euros. The security funds of the banks in Germany serve to ensure that financial institutions in financial difficulties receive help in order to avert insolvency. In every member state of the European Union, national deposit protection systems guarantee that up to 100,000 euros per customer are protected per bank. In addition to this legal protection, almost all financial institutions in this country provide additional protection for savings. VR-Bank Bad Salzungen Schmalkalden branch in Erfurt\n"
     ]
    }
   ],
   "source": [
    "# Translating the extracted text to English\n",
    "translated_text = GoogleTranslator(source='auto', target='en').translate(text_to_translate)\n",
    "print(\"Translated Text: \", translated_text)"
   ]
  },
  {
   "cell_type": "code",
   "execution_count": null,
   "id": "e91a72d7",
   "metadata": {},
   "outputs": [],
   "source": []
  }
 ],
 "metadata": {
  "kernelspec": {
   "display_name": "Python 3",
   "language": "python",
   "name": "python3"
  },
  "language_info": {
   "codemirror_mode": {
    "name": "ipython",
    "version": 3
   },
   "file_extension": ".py",
   "mimetype": "text/x-python",
   "name": "python",
   "nbconvert_exporter": "python",
   "pygments_lexer": "ipython3",
   "version": "3.8.8"
  }
 },
 "nbformat": 4,
 "nbformat_minor": 5
}
